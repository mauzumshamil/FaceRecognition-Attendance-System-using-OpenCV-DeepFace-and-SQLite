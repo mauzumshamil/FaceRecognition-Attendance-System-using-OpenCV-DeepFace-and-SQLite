{
 "cells": [
  {
   "cell_type": "markdown",
   "metadata": {},
   "source": [
    "# FaceRecognition Attendance System using OpenCV, DeepFace, and SQLite\n",
    "\n",
    "## Introduction\n",
    "\n",
    "The **FaceRecognition Attendance System** is an advanced solution designed to automate the process of recording attendance using facial recognition technology. This project leverages the capabilities of **OpenCV**, **DeepFace**, and **SQLite** to create a reliable and efficient attendance tracking system.\n",
    "\n",
    "### Key Technologies\n",
    "\n",
    "- **OpenCV**: Used for capturing and processing images from a webcam. OpenCV's robust image processing libraries enable accurate face detection in real-time.\n",
    "- **DeepFace**: A powerful facial recognition library that identifies individuals by comparing captured images with a pre-existing database of known faces.\n",
    "- **SQLite**: A lightweight database management system that stores attendance records, ensuring easy access and management of data.\n",
    "\n",
    "### Project Overview\n",
    "\n",
    "1. **Face Detection and Recognition**: \n",
    "    - The system uses a webcam to capture live video feeds and detect faces in real-time.\n",
    "    - Detected faces are then recognized using the DeepFace library by matching them against a database of known faces.\n",
    "\n",
    "2. **Attendance Logging**:\n",
    "    - Upon successful recognition, the system logs the attendance details (name, date, and time) into an SQLite database.\n",
    "    - This ensures that attendance records are accurately maintained and easily retrievable.\n",
    "\n",
    "3. **User Interface**:\n",
    "    - A simple graphical user interface (GUI) displays real-time attendance status, showing recognized faces and marking attendance automatically.\n",
    "    - The system can also handle unrecognized faces by labeling them as \"Unknown\" and optionally sending alerts.\n",
    "\n",
    "### Benefits\n",
    "\n",
    "- **Efficiency**: Automates the attendance recording process, reducing manual effort and errors.\n",
    "- **Accuracy**: Utilizes state-of-the-art facial recognition technology to ensure precise identification.\n",
    "- **Scalability**: Easily expandable to accommodate more users and additional functionalities.\n",
    "\n",
    "This project aims to demonstrate the integration of computer vision, machine learning, and database management to solve real-world problems effectively. The **FaceRecognition Attendance System** provides a robust and scalable solution for various environments, including schools, offices, and events.\n"
   ]
  },
  {
   "cell_type": "markdown",
   "metadata": {},
   "source": [
    "#  Import necessary libraries"
   ]
  },
  {
   "cell_type": "code",
   "execution_count": 12,
   "metadata": {},
   "outputs": [],
   "source": [
    "\n",
    "import cv2\n",
    "import sqlite3\n",
    "from deepface import DeepFace\n",
    "import os\n",
    "from datetime import datetime"
   ]
  },
  {
   "cell_type": "markdown",
   "metadata": {},
   "source": [
    "# Create a database and a table for storing attendance records"
   ]
  },
  {
   "cell_type": "code",
   "execution_count": 13,
   "metadata": {},
   "outputs": [],
   "source": [
    "def init_db():\n",
    "    conn = sqlite3.connect('attendance.db')\n",
    "    cursor = conn.cursor()\n",
    "    cursor.execute('''\n",
    "        CREATE TABLE IF NOT EXISTS attendance (\n",
    "            id INTEGER PRIMARY KEY AUTOINCREMENT,\n",
    "            name TEXT,\n",
    "            date TEXT,\n",
    "            time TEXT\n",
    "        )\n",
    "    ''')\n",
    "    conn.commit()\n",
    "    conn.close()"
   ]
  },
  {
   "cell_type": "markdown",
   "metadata": {},
   "source": [
    "\n",
    "# Initialize the database"
   ]
  },
  {
   "cell_type": "code",
   "execution_count": 14,
   "metadata": {},
   "outputs": [],
   "source": [
    "init_db()"
   ]
  },
  {
   "cell_type": "markdown",
   "metadata": {},
   "source": [
    "# Function to mark attendance"
   ]
  },
  {
   "cell_type": "code",
   "execution_count": 15,
   "metadata": {},
   "outputs": [],
   "source": [
    "def mark_attendance(name):\n",
    "    conn = sqlite3.connect('attendance.db')\n",
    "    cursor = conn.cursor()\n",
    "    now = datetime.now()\n",
    "    date = now.strftime('%Y-%m-%d')\n",
    "    time = now.strftime('%H:%M:%S')\n",
    "    cursor.execute('INSERT INTO attendance (name, date, time) VALUES (?, ?, ?)', (name, date, time))\n",
    "    conn.commit()\n",
    "    conn.close()"
   ]
  },
  {
   "cell_type": "markdown",
   "metadata": {},
   "source": [
    "# Load known faces"
   ]
  },
  {
   "cell_type": "code",
   "execution_count": 16,
   "metadata": {},
   "outputs": [],
   "source": [
    "known_faces_dir = r\"C:\\Users\\dell\\Desktop\\known_faces\"\n",
    "known_faces = {}\n",
    "for filename in os.listdir(known_faces_dir):\n",
    "    name, ext = os.path.splitext(filename)\n",
    "    if ext in ['.jpg', '.jpeg', '.png']:\n",
    "        img_path = os.path.join(known_faces_dir, filename)\n",
    "        known_faces[name] = img_path"
   ]
  },
  {
   "cell_type": "markdown",
   "metadata": {},
   "source": [
    "\n",
    "# Function to recognize face"
   ]
  },
  {
   "cell_type": "code",
   "execution_count": 17,
   "metadata": {},
   "outputs": [],
   "source": [
    "def recognize_face(face_img):\n",
    "    try:\n",
    "        result = DeepFace.find(img_path=face_img, db_path=known_faces_dir, enforce_detection=False)\n",
    "        if len(result) > 0:\n",
    "            name = result[0]['identity'].split('/')[-1].split('.')[0]\n",
    "            return name\n",
    "        else:\n",
    "            return None\n",
    "    except Exception as e:\n",
    "        print(f\"Error in recognizing face: {e}\")\n",
    "        return None"
   ]
  },
  {
   "cell_type": "markdown",
   "metadata": {},
   "source": [
    "\n",
    "# Capture video from webcam"
   ]
  },
  {
   "cell_type": "code",
   "execution_count": null,
   "metadata": {},
   "outputs": [],
   "source": [
    "cap = cv2.VideoCapture(0)\n",
    "\n",
    "while True:\n",
    "    ret, frame = cap.read()\n",
    "    if not ret:\n",
    "        break\n",
    "\n",
    "    # Convert to grayscale\n",
    "    gray = cv2.cvtColor(frame, cv2.COLOR_BGR2GRAY)\n",
    "\n",
    "    # Load OpenCV face detector\n",
    "    face_cascade = cv2.CascadeClassifier(cv2.data.haarcascades + 'haarcascade_frontalface_default.xml')\n",
    "    faces = face_cascade.detectMultiScale(gray, 1.1, 4)\n",
    "\n",
    "    # Draw rectangle around faces\n",
    "    for (x, y, w, h) in faces:\n",
    "        cv2.rectangle(frame, (x, y), (x + w, y + h), (255, 0, 0), 2)\n",
    "        face = frame[y:y+h, x:x+w]\n",
    "        name = recognize_face(face)\n",
    "        if name:\n",
    "            cv2.putText(frame, name, (x, y - 10), cv2.FONT_HERSHEY_SIMPLEX, 1, (0, 255, 0), 2, cv2.LINE_AA)\n",
    "            mark_attendance(name)\n",
    "        else:\n",
    "            cv2.putText(frame, \"Unknown\", (x, y - 10), cv2.FONT_HERSHEY_SIMPLEX, 1, (0, 0, 255), 2, cv2.LINE_AA)\n",
    "\n",
    "    # Display the output\n",
    "    cv2.imshow('Webcam', frame)\n",
    "\n",
    "    if cv2.waitKey(1) & 0xFF == ord('q'):\n",
    "        break\n",
    "\n",
    "cap.release()\n",
    "cv2.destroyAllWindows()"
   ]
  },
  {
   "cell_type": "markdown",
   "metadata": {},
   "source": [
    "## Summary\n",
    "\n",
    "### Project Overview\n",
    "\n",
    "The **FaceRecognition Attendance System** is designed to automate attendance tracking using facial recognition technology. This project integrates three key technologies: **OpenCV**, **DeepFace**, and **SQLite**. Below is a brief explanation of the code, its usage, and the advantages of this system.\n",
    "\n",
    "### Code Explanation\n",
    "\n",
    "1. **Environment Setup**:\n",
    "    - Install the necessary libraries: OpenCV, DeepFace, and SQLite.\n",
    "    - Initialize the SQLite database to store attendance records.\n",
    "\n",
    "2. **Face Detection**:\n",
    "    - Use OpenCV to capture images from the webcam.\n",
    "    - Detect faces in real-time using OpenCV's Haar Cascade classifier.\n",
    "\n",
    "3. **Face Recognition**:\n",
    "    - Use DeepFace to compare detected faces with a database of known faces.\n",
    "    - Identify the person and retrieve their name.\n",
    "\n",
    "4. **Attendance Logging**:\n",
    "    - Mark attendance by logging the recognized name, date, and time into the SQLite database.\n",
    "    - Handle unrecognized faces by labeling them as \"Unknown.\"\n",
    "\n",
    "5. **User Interface**:\n",
    "    - Display real-time video feed with detected and recognized faces.\n",
    "    - Provide visual feedback by drawing rectangles around faces and displaying names.\n",
    "\n",
    "### Usage\n",
    "\n",
    "To use the system, follow these steps:\n",
    "\n",
    "1. **Prepare Known Faces**:\n",
    "    - Create a directory named `known_faces` and save images of individuals with filenames as their names (e.g., `Alice.jpg`, `Bob.jpg`).\n",
    "\n",
    "2. **Run the System**:\n",
    "    - Execute the Python notebook or script to start the webcam feed.\n",
    "    - The system will automatically detect and recognize faces, logging attendance for recognized individuals.\n",
    "\n",
    "3. **View Attendance Records**:\n",
    "    - Attendance records are stored in the `attendance.db` SQLite database.\n",
    "    - Use any SQLite viewer or command-line tool to query and view attendance logs.\n",
    "\n",
    "### Pros\n",
    "\n",
    "- **Efficiency**: The system automates attendance recording, saving time and reducing manual errors.\n",
    "- **Accuracy**: Utilizes advanced facial recognition to ensure precise identification of individuals.\n",
    "- **Scalability**: Easily expandable to include more users and additional features.\n",
    "- **Real-Time**: Provides immediate feedback on attendance status with real-time face detection and recognition.\n",
    "\n",
    "### Keywords\n",
    "\n",
    "- **OpenCV**: An open-source computer vision library used for image processing and real-time video capture.\n",
    "- **DeepFace**: A Python library for deep learning-based facial recognition, providing state-of-the-art accuracy in identifying faces.\n",
    "- **SQLite**: A lightweight, disk-based database management system used to store attendance records.\n",
    "- **Face Detection**: The process of identifying and locating human faces in images or video streams.\n",
    "- **Face Recognition**: The process of comparing detected faces with a database of known faces to identify individuals.\n",
    "- **Attendance Logging**: Recording the presence of individuals by logging their identity along with the date and time.\n",
    "\n",
    "### Conclusion\n",
    "\n",
    "The **FaceRecognition Attendance System** combines cutting-edge technologies to provide a robust and efficient solution for automating attendance tracking. By leveraging OpenCV for real-time face detection, DeepFace for accurate face recognition, and SQLite for reliable data storage, this system addresses the needs of various environments such as schools, offices, and events. Its ease of use, accuracy, and scalability make it a valuable tool for modern attendance management.\n"
   ]
  }
 ],
 "metadata": {
  "kernelspec": {
   "display_name": "base",
   "language": "python",
   "name": "python3"
  },
  "language_info": {
   "codemirror_mode": {
    "name": "ipython",
    "version": 3
   },
   "file_extension": ".py",
   "mimetype": "text/x-python",
   "name": "python",
   "nbconvert_exporter": "python",
   "pygments_lexer": "ipython3",
   "version": "3.11.5"
  }
 },
 "nbformat": 4,
 "nbformat_minor": 2
}
